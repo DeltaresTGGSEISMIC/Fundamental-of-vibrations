{
 "cells": [
  {
   "cell_type": "code",
   "execution_count": 3,
   "id": "707f9c69",
   "metadata": {},
   "outputs": [
    {
     "name": "stdout",
     "output_type": "stream",
     "text": [
      "[ 0.          0.043667    0.23261939  0.61207297  1.08254802  1.430965\n",
      "  1.42309644  0.91853236 -0.04181914 -1.21643628]\n",
      "[  0.           0.87333998   2.9057078    4.68336375   4.72613734\n",
      "   2.24220224  -2.39957331  -7.69170832 -11.51532177 -11.97702095]\n",
      "[ 0.00000000e+00  5.00000000e+00  8.66025404e+00  1.00000000e+01\n",
      "  8.66025404e+00  5.00000000e+00 -3.21624530e-15 -5.00000000e+00\n",
      " -8.66025404e+00 -1.00000000e+01]\n"
     ]
    },
    {
     "data": {
      "text/plain": [
       "[<matplotlib.lines.Line2D at 0x16dd6ccfc08>]"
      ]
     },
     "execution_count": 3,
     "metadata": {},
     "output_type": "execute_result"
    },
    {
     "data": {
      "image/png": "[encoded data removed]",
      "text/plain": [
       "<Figure size 432x288 with 1 Axes>"
      ]
     },
     "metadata": {
      "needs_background": "light"
     },
     "output_type": "display_data"
    }
   ],
   "source": [
    "# Cell 0 - Preparation: load packages, set some basic options  \n",
    "%matplotlib inline\n",
    "import numpy as np\n",
    "import matplotlib.pylab as plt\n",
    "\n",
    "dt=0.1\n",
    "t=np.arange(0,1,dt)        \n",
    "m=0.2533 \n",
    "P=10*np.sin(np.pi*t/0.6) \n",
    "# Kips-sec2/in\n",
    "# Newmark´s Method\n",
    "#  Initial calculations\n",
    "beta=1/4\n",
    "gamma=1/2\n",
    "# Kips/in\n",
    "Tn=1 # Natural periodo\n",
    "K0=m*(2*np.pi/Tn)**2\n",
    "Wn=np.sqrt(K0/m);\n",
    "damp=0.05 # Damping \n",
    "c=2*damp*m*Wn;\n",
    "a=(m/(beta*dt))+(gamma/beta)*c\n",
    "b=m/(2*beta)+dt*((gamma/(2*beta))-1)*c\n",
    "\n",
    "# Initial conditions######################################################\n",
    "\n",
    "u = np.zeros((len(P)))\n",
    "vel = np.zeros((len(P)))\n",
    "acc = np.zeros((len(P)))\n",
    "\n",
    "K = K0\n",
    "\n",
    "K1 = K+((gamma*c)/(beta*dt))+(m/(beta*dt**2))\n",
    "  \n",
    "i = 0\n",
    "\n",
    "while i < len(P)-1: \n",
    "    deltaP=(P[i+1]-P[i])+a*vel[i]+b*acc[i]  \n",
    "    deltaU = deltaP/K1\n",
    "    deltavel=(gamma/(beta*dt))*deltaU-((gamma/beta)*vel[i])+dt*(1-(gamma/(2*beta)))*acc[i]\n",
    "    deltacc=(deltaU/(beta*dt**2))-(vel[i]/(beta*dt))-(acc[i]/(2*beta))\n",
    "    u[i+1]=u[i] + deltaU \n",
    "    vel[i+1] = vel[i] + deltavel\n",
    "    acc[i+1] = acc[i] + deltacc\n",
    "    i+=1\n",
    "          \n",
    "print(u)\n",
    "print(vel)\n",
    "print(P)\n",
    "plt.plot(t,u)"
   ]
  },
  {
   "cell_type": "code",
   "execution_count": 4,
   "id": "ac0af57e",
   "metadata": {},
   "outputs": [
    {
     "name": "stdout",
     "output_type": "stream",
     "text": [
      "9.999883179183739\n"
     ]
    }
   ],
   "source": [
    "from scipy.integrate import odeint\n",
    "def f(u,x):\n",
    "    return(0.2533*u[1], - 0.1592*u[1] - K0*u[0] + 10*np.sin(np.pi*x/0.6))\n",
    "y0=[0,0]\n",
    "xs = t\n",
    "u_theor = odeint(f,y0,xs)\n",
    "ys = u_theor[:,0]\n",
    "\n",
    "print(K0)"
   ]
  },
  {
   "cell_type": "code",
   "execution_count": 5,
   "id": "340a8d9f",
   "metadata": {},
   "outputs": [
    {
     "data": {
      "text/plain": [
       "[<matplotlib.lines.Line2D at 0x16dd6d345c8>]"
      ]
     },
     "execution_count": 5,
     "metadata": {},
     "output_type": "execute_result"
    },
    {
     "data": {
      "image/png": "[encoded data removed]",
      "text/plain": [
       "<Figure size 432x288 with 1 Axes>"
      ]
     },
     "metadata": {
      "needs_background": "light"
     },
     "output_type": "display_data"
    }
   ],
   "source": [
    "#plt.plot(t,u)\n",
    "plt.plot(xs,ys,color='red')"
   ]
  },
  {
   "cell_type": "code",
   "execution_count": null,
   "id": "9ad9ec11",
   "metadata": {},
   "outputs": [],
   "source": []
  },
  {
   "cell_type": "code",
   "execution_count": null,
   "id": "fac9ccc3",
   "metadata": {},
   "outputs": [],
   "source": []
  }
 ],
 "metadata": {
  "kernelspec": {
   "display_name": "Python 3 (ipykernel)",
   "language": "python",
   "name": "python3"
  },
  "language_info": {
   "codemirror_mode": {
    "name": "ipython",
    "version": 3
   },
   "file_extension": ".py",
   "mimetype": "text/x-python",
   "name": "python",
   "nbconvert_exporter": "python",
   "pygments_lexer": "ipython3",
   "version": "3.7.9"
  }
 },
 "nbformat": 4,
 "nbformat_minor": 5
}
